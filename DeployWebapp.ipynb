{
 "cells": [
  {
   "cell_type": "code",
   "execution_count": 1,
   "id": "b6f31b7a-8f91-47b9-afb0-77aa2f31c9aa",
   "metadata": {},
   "outputs": [],
   "source": [
    "import servicefoundry.core as sfy"
   ]
  },
  {
   "cell_type": "code",
   "execution_count": 2,
   "id": "496732d5-c272-46fe-a813-36d31a736cc4",
   "metadata": {},
   "outputs": [
    {
     "name": "stdout",
     "output_type": "stream",
     "text": [
      "[yellow]You are logged in as 'cloud' with email 'cloud@truefoundry.com'[/]\n"
     ]
    }
   ],
   "source": [
    "sfy.login()"
   ]
  },
  {
   "cell_type": "code",
   "execution_count": null,
   "id": "08c4bef0-7a24-4277-9376-7196766b4273",
   "metadata": {},
   "outputs": [],
   "source": []
  },
  {
   "cell_type": "code",
   "execution_count": 18,
   "id": "75069908-a901-4674-8a17-4a231fc2591c",
   "metadata": {},
   "outputs": [
    {
     "name": "stdout",
     "output_type": "stream",
     "text": [
      "Overwriting webapp.py\n"
     ]
    }
   ],
   "source": [
    "%%writefile webapp.py\n",
    "\n",
    "import gradio as gr\n",
    "import mlfoundry as mlf\n",
    "import pandas as pd\n",
    "import torch\n",
    "\n",
    "device = torch.device(\"cpu\")\n",
    "\n",
    "mlf.login(api_key=\"OGQ1NDI4ZGMtZGY3My00ZWEyLTg2NGMtZjA3OTQzNDkzZDRiOmZjNjc4Mw==\", relogin=True)\n",
    "client = mlf.get_client()\n",
    "run = client.get_run(\"cloud/recommendation-system/matrix-factorization-factor20-51\")\n",
    "inference = run.get_model()\n",
    "\n",
    "movies = pd.read_csv('data/movies.dat', sep='::', header=None, names=[\"MovieID\", \"Title\", \"Genres\"], encoding='iso-8859-1')\n",
    "movie_id_list = list(movies[\"MovieID\"])\n",
    "movie_names = {}\n",
    "ratings = pd.read_csv('data/ratings.dat', sep='::', header=None, names=['user_id', 'movie_id', 'rating', 'timestamp'])\n",
    "\n",
    "for ind in movies.index:\n",
    "    movie_names[movies[\"MovieID\"][ind]]=movies[\"Title\"][ind]\n",
    "\n",
    "def get_recommendations(user_id: int):\n",
    "    batch = []\n",
    "    for movie_id in movie_id_list:\n",
    "        batch.append([user_id,movie_id])\n",
    "    batch = torch.tensor(batch)\n",
    "    results = inference(batch[:,0].to(device), batch[:,1].to(device))\n",
    "    res = list(zip(movie_id_list, results))\n",
    "    res.sort(key=lambda x: x[1], reverse=True)\n",
    "    return [elem[0] for elem in res[0:40]]\n",
    "\n",
    "def get_top_recommendations(user_id: int):\n",
    "    res = get_recommendations(user_id)\n",
    "    id_list = set(ratings[ratings[\"user_id\"]==user_id][\"movie_id\"])\n",
    "    new_l = []\n",
    "    i = 0\n",
    "    while(len(new_l)<10):\n",
    "        if res[i] not in id_list:\n",
    "            new_l.append(res[i])\n",
    "        i+=1\n",
    "    mov_list = [movie_names[id1] for id1 in id_list]\n",
    "    return [movie_names[id1] for id1 in new_l], mov_list\n",
    "\n",
    "def greet(user_id: int):\n",
    "    rec, _ = get_top_recommendations(user_id)\n",
    "    return f'You top 10 recommendations are:\\n\\n' + f'\\n'.join([f'{i+1}:   {rec[i]}' for i in range(10)])\n",
    "\n",
    "app = gr.Interface(fn=greet, inputs=\"number\", outputs=\"text\")"
   ]
  },
  {
   "cell_type": "code",
   "execution_count": 19,
   "id": "abb02eb0-e661-4e50-9e9b-9bff0d959353",
   "metadata": {},
   "outputs": [
    {
     "name": "stdout",
     "output_type": "stream",
     "text": [
      "{'fsspec': '2021.11.1', 'certifi': '2021.10.8', 'pytz': '2021.3', 'cryptography': '36.0.0', 'packaging': '21.3', 'unicodedata2': '13.0.0.post2', 'rich': '12.4.4', 'click': '8.1.3', 'pyarrow': '7.0.0', 'psutil': '5.9.1', 'multidict': '5.2.0', 'traitlets': '5.1.1', 'decorator': '5.1.0', 'smmap': '5.0.0', 'tqdm': '4.62.3', 'pexpect': '4.8.0', 'ujson': '4.2.0', 'gitdb': '4.0.9', 'chardet': '4.0.0', 'marshmallow': '3.17.0', 'aiohttp': '3.8.1', 'orjson': '3.7.7', 'matplotlib': '3.5.0', 'anyio': '3.4.0', 'bcrypt': '3.2.2', 'jsonschema': '3.2.0', 'idna': '3.1', 'gradio': '3.0.24', 'pyparsing': '3.0.6', 'jinja2': '3.0.3', 'threadpoolctl': '3.0.0', 'pyspark': '3.0.0', 'requests': '2.28.1', 'pycparser': '2.21', 'pygments': '2.12.0', 'paramiko': '2.11.0', 'numexpr': '2.7.3', 'markupsafe': '2.0.1', 'cloudpickle': '2.0.0', 'botocore': '1.26.10', 'urllib3': '1.26.8', 'boto3': '1.23.10', 'numpy': '1.21.2', 'six': '1.16.0', 'cffi': '1.15.0', 'puremagic': '1.14', 'torch': '1.10.0', 'backoff': '1.10.0', 'pydantic': '1.9.1', 'gssapi': '1.7.3', 'yarl': '1.7.2', 'scipy': '1.7.2', 'monotonic': '1.6', 'rfc3986': '1.5.0', 'argparse': '1.4.0', 'pandas': '1.3.4', 'kiwisolver': '1.3.2', 'bottleneck': '1.3.2', 'tinynetrc': '1.3.1', 'frozenlist': '1.2.0', 'sniffio': '1.2.0', 'aiosignal': '1.2.0', 'joblib': '1.1.0', 'coolname': '1.1.0', 'fastapi': '0.78.0', 'pydub': '0.25.1', 'httpx': '0.23.0', 'starlette': '0.19.1', 'uvicorn': '0.18.2', 'pyrsistent': '0.18.0', 'jedi': '0.17.2', 'httpcore': '0.15.0', 'h11': '0.12.0', 'cycler': '0.11.0', 'py4j': '0.10.9', 'jmespath': '0.10.0', 'pickleshare': '0.7.5', 'defusedxml': '0.7.1', 'parso': '0.7.0', 'ptyprocess': '0.7.0', 'whylogs': '0.6.30', 'colorama': '0.4.3', 'mlfoundry': '0.3.30', 'dill': '0.3.4', 'entrypoints': '0.3', 'ffmpy': '0.3.0', 'wcwidth': '0.2.5', 'backcall': '0.2.0', 'mdurl': '0.1.1', 'sklearn': '0.0'}\n"
     ]
    }
   ],
   "source": [
    "requirements = sfy.gather_requirements(\"webapp.py\")\n",
    "print(requirements)"
   ]
  },
  {
   "cell_type": "code",
   "execution_count": null,
   "id": "ebb27bad-8d58-494d-a3e1-52e3e9089ab6",
   "metadata": {},
   "outputs": [],
   "source": []
  },
  {
   "cell_type": "code",
   "execution_count": 20,
   "id": "bf090c5e-a7e0-4a5f-b8bc-a8f2445c38f7",
   "metadata": {},
   "outputs": [
    {
     "name": "stdout",
     "output_type": "stream",
     "text": [
      "Creating directory /home/ec2-user/SageMaker/.servicefoundry/demo-app\n",
      "Created definition file /home/ec2-user/SageMaker/.servicefoundry/demo-app/servicefoundry.yaml\n",
      "Created file /home/ec2-user/SageMaker/.servicefoundry/demo-app/main.py\n",
      "Created file /home/ec2-user/SageMaker/.servicefoundry/demo-app/requirements.txt\n",
      "Created file /home/ec2-user/SageMaker/.servicefoundry/demo-app/Procfile\n",
      "Ignoring .servicefoundry\n"
     ]
    }
   ],
   "source": [
    "auto_service = sfy.Gradio(\"webapp.py\", requirements, sfy.Parameters(\n",
    "    name=\"demo-app\",\n",
    "    workspace=\"v1:tfy-dub-euwe1-production:recommendation-workspace\",\n",
    "    cpu=sfy.CPU(required=1.0),\n",
    "    memory=sfy.Memory(required=1024 * 1000 * 1000)\n",
    "))\n",
    "auto_service.deploy()"
   ]
  },
  {
   "cell_type": "code",
   "execution_count": null,
   "id": "90ab8d31-9a5a-4a8b-a2ce-ee23782e1a7f",
   "metadata": {},
   "outputs": [],
   "source": []
  }
 ],
 "metadata": {
  "kernelspec": {
   "display_name": "conda_pytorch_p38",
   "language": "python",
   "name": "conda_pytorch_p38"
  },
  "language_info": {
   "codemirror_mode": {
    "name": "ipython",
    "version": 3
   },
   "file_extension": ".py",
   "mimetype": "text/x-python",
   "name": "python",
   "nbconvert_exporter": "python",
   "pygments_lexer": "ipython3",
   "version": "3.8.12"
  }
 },
 "nbformat": 4,
 "nbformat_minor": 5
}
